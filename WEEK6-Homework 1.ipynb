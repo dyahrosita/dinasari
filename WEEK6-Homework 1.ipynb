{
  "nbformat": 4,
  "nbformat_minor": 0,
  "metadata": {
    "colab": {
      "name": "Untitled6.ipynb",
      "provenance": [],
      "authorship_tag": "ABX9TyNi0hgy5RsIPybrrKGJ13kn",
      "include_colab_link": true
    },
    "kernelspec": {
      "name": "python3",
      "display_name": "Python 3"
    }
  },
  "cells": [
    {
      "cell_type": "markdown",
      "metadata": {
        "id": "view-in-github",
        "colab_type": "text"
      },
      "source": [
        "<a href=\"https://colab.research.google.com/github/dyahrosita/dinasari/blob/main/WEEK6-Homework%201.ipynb\" target=\"_parent\"><img src=\"https://colab.research.google.com/assets/colab-badge.svg\" alt=\"Open In Colab\"/></a>"
      ]
    },
    {
      "cell_type": "markdown",
      "metadata": {
        "id": "rGivL_tnAnaD"
      },
      "source": [
        "## **HOMEWORK 1 - WEEK 6**"
      ]
    },
    {
      "cell_type": "markdown",
      "metadata": {
        "id": "69RPWs0L6aWh"
      },
      "source": [
        "Dataframe pertama isinya mengenai nilai dari mahasiswa jurusan statistika. Di dalam dataframe tersebut harus meliputi nama, id mahasiswa, mata kuliah, dan nilainya. Dataframe HARUS dibuat dengan menggunakan dictionary."
      ]
    },
    {
      "cell_type": "code",
      "metadata": {
        "id": "praA5xwX7vH3"
      },
      "source": [
        "import pandas as pd"
      ],
      "execution_count": 52,
      "outputs": []
    },
    {
      "cell_type": "code",
      "metadata": {
        "colab": {
          "base_uri": "https://localhost:8080/",
          "height": 235
        },
        "id": "0jfgdbbR6ZVP",
        "outputId": "e5d45050-2114-4dd0-ac7e-e91af755b252"
      },
      "source": [
        "d1 = {'name' : 'Amelia', 'id' : 10103043,'mata_kuliah' : 'statistika dasar','nilai' : 90}\r\n",
        "d2 = {'name' : 'Budi', 'id' : 10102045,'mata_kuliah' : 'metode statistika','nilai' : 85}\r\n",
        "d3 = {'name' : 'Chandra', 'id' : 10101050,'mata_kuliah' : 'statistika terapan','nilai' : 75}\r\n",
        "d4 = {'name' : 'Dinda', 'id' : 10103040,'mata_kuliah' : 'statistika dasar','nilai' : 95}\r\n",
        "d5 = {'name' : 'Emmy', 'id' : 10101019,'mata_kuliah' : 'statistika terapan','nilai' : 70}\r\n",
        "d6 = {'name' : 'Farhan', 'id' : 10103059,'mata_kuliah' : 'statistika dasar','nilai' : 90}\r\n",
        "\r\n",
        "d = [d1, d2, d3, d4, d5, d6]\r\n",
        "\r\n",
        "# grouping dictionary by keys\r\n",
        "key_names = ['name', 'id', 'mata_kuliah', 'nilai']\r\n",
        "new_d = {}\r\n",
        "for key in key_names:\r\n",
        "  for i in range(len(d)):\r\n",
        "    if key not in new_d:\r\n",
        "      new_d[key] = []\r\n",
        "    new_d[key].append(d[i][key])\r\n",
        "\r\n",
        "# create DataFrame from dictionary\r\n",
        "df_dict = pd.DataFrame(new_d, columns=key_names)\r\n",
        "df_dict"
      ],
      "execution_count": 63,
      "outputs": [
        {
          "output_type": "execute_result",
          "data": {
            "text/html": [
              "<div>\n",
              "<style scoped>\n",
              "    .dataframe tbody tr th:only-of-type {\n",
              "        vertical-align: middle;\n",
              "    }\n",
              "\n",
              "    .dataframe tbody tr th {\n",
              "        vertical-align: top;\n",
              "    }\n",
              "\n",
              "    .dataframe thead th {\n",
              "        text-align: right;\n",
              "    }\n",
              "</style>\n",
              "<table border=\"1\" class=\"dataframe\">\n",
              "  <thead>\n",
              "    <tr style=\"text-align: right;\">\n",
              "      <th></th>\n",
              "      <th>name</th>\n",
              "      <th>id</th>\n",
              "      <th>mata_kuliah</th>\n",
              "      <th>nilai</th>\n",
              "    </tr>\n",
              "  </thead>\n",
              "  <tbody>\n",
              "    <tr>\n",
              "      <th>0</th>\n",
              "      <td>Amelia</td>\n",
              "      <td>10103043</td>\n",
              "      <td>statistika dasar</td>\n",
              "      <td>90</td>\n",
              "    </tr>\n",
              "    <tr>\n",
              "      <th>1</th>\n",
              "      <td>Budi</td>\n",
              "      <td>10102045</td>\n",
              "      <td>metode statistika</td>\n",
              "      <td>85</td>\n",
              "    </tr>\n",
              "    <tr>\n",
              "      <th>2</th>\n",
              "      <td>Chandra</td>\n",
              "      <td>10101050</td>\n",
              "      <td>statistika terapan</td>\n",
              "      <td>75</td>\n",
              "    </tr>\n",
              "    <tr>\n",
              "      <th>3</th>\n",
              "      <td>Dinda</td>\n",
              "      <td>10103040</td>\n",
              "      <td>statistika dasar</td>\n",
              "      <td>95</td>\n",
              "    </tr>\n",
              "    <tr>\n",
              "      <th>4</th>\n",
              "      <td>Emmy</td>\n",
              "      <td>10101019</td>\n",
              "      <td>statistika terapan</td>\n",
              "      <td>70</td>\n",
              "    </tr>\n",
              "    <tr>\n",
              "      <th>5</th>\n",
              "      <td>Farhan</td>\n",
              "      <td>10103059</td>\n",
              "      <td>statistika dasar</td>\n",
              "      <td>90</td>\n",
              "    </tr>\n",
              "  </tbody>\n",
              "</table>\n",
              "</div>"
            ],
            "text/plain": [
              "      name        id         mata_kuliah  nilai\n",
              "0   Amelia  10103043    statistika dasar     90\n",
              "1     Budi  10102045   metode statistika     85\n",
              "2  Chandra  10101050  statistika terapan     75\n",
              "3    Dinda  10103040    statistika dasar     95\n",
              "4     Emmy  10101019  statistika terapan     70\n",
              "5   Farhan  10103059    statistika dasar     90"
            ]
          },
          "metadata": {
            "tags": []
          },
          "execution_count": 63
        }
      ]
    },
    {
      "cell_type": "markdown",
      "metadata": {
        "id": "PKIdRTb6844k"
      },
      "source": [
        "Dataframe kedua isinya adalah kumpulan informasi hewan di kebun binatang. Informasi yang diperlukan adalah jenis hewan, nama panggilan, kapan dilahirkan, usia, dan jenis kelamin. Dataframe HARUS dibuat dengan menggunakan tuple."
      ]
    },
    {
      "cell_type": "code",
      "metadata": {
        "colab": {
          "base_uri": "https://localhost:8080/",
          "height": 204
        },
        "id": "S_vSc4KQ88lQ",
        "outputId": "5428022c-8d07-462a-a1f2-c7d12d67f896"
      },
      "source": [
        "t1 = ('Harimau', 'Harry', '2018-08-14', 2, 'Jantan')\r\n",
        "t2 = ('Jerapah', 'Jerry', '2017-12-12', 3, 'Jantan')\r\n",
        "t3 = ('Rusa', 'Risa', '2019-01-10', 2, 'Betina')\r\n",
        "t4 = ('Zebra', 'Zera', '2016-11-10', 4, 'Betina')\r\n",
        "t5 = ('Buaya', 'Bu Aya', '2013-10-23', 7, 'Betina')\r\n",
        "t = [t1, t2, t3, t4, t5]\r\n",
        "column_names = ['jenis_hewan', 'nama_panggilan', 'tanggal_lahir', 'usia(thn)', 'jenis_kelamin']\r\n",
        "\r\n",
        "#create DataFrame from tuple\r\n",
        "df_tuple = pd.DataFrame(my_tuple, columns = column_names) \r\n",
        "df_tuple"
      ],
      "execution_count": 68,
      "outputs": [
        {
          "output_type": "execute_result",
          "data": {
            "text/html": [
              "<div>\n",
              "<style scoped>\n",
              "    .dataframe tbody tr th:only-of-type {\n",
              "        vertical-align: middle;\n",
              "    }\n",
              "\n",
              "    .dataframe tbody tr th {\n",
              "        vertical-align: top;\n",
              "    }\n",
              "\n",
              "    .dataframe thead th {\n",
              "        text-align: right;\n",
              "    }\n",
              "</style>\n",
              "<table border=\"1\" class=\"dataframe\">\n",
              "  <thead>\n",
              "    <tr style=\"text-align: right;\">\n",
              "      <th></th>\n",
              "      <th>jenis_hewan</th>\n",
              "      <th>nama_panggilan</th>\n",
              "      <th>tanggal_lahir</th>\n",
              "      <th>usia(thn)</th>\n",
              "      <th>jenis_kelamin</th>\n",
              "    </tr>\n",
              "  </thead>\n",
              "  <tbody>\n",
              "    <tr>\n",
              "      <th>0</th>\n",
              "      <td>Harimau</td>\n",
              "      <td>Harry</td>\n",
              "      <td>2018-08-14</td>\n",
              "      <td>2</td>\n",
              "      <td>Jantan</td>\n",
              "    </tr>\n",
              "    <tr>\n",
              "      <th>1</th>\n",
              "      <td>Jerapah</td>\n",
              "      <td>Jerry</td>\n",
              "      <td>2017-12-12</td>\n",
              "      <td>3</td>\n",
              "      <td>Jantan</td>\n",
              "    </tr>\n",
              "    <tr>\n",
              "      <th>2</th>\n",
              "      <td>Rusa</td>\n",
              "      <td>Risa</td>\n",
              "      <td>2019-01-10</td>\n",
              "      <td>2</td>\n",
              "      <td>Betina</td>\n",
              "    </tr>\n",
              "    <tr>\n",
              "      <th>3</th>\n",
              "      <td>Zebra</td>\n",
              "      <td>Zera</td>\n",
              "      <td>2016-11-10</td>\n",
              "      <td>4</td>\n",
              "      <td>Betina</td>\n",
              "    </tr>\n",
              "    <tr>\n",
              "      <th>4</th>\n",
              "      <td>Buaya</td>\n",
              "      <td>Bu Aya</td>\n",
              "      <td>2013-10-23</td>\n",
              "      <td>7</td>\n",
              "      <td>Betina</td>\n",
              "    </tr>\n",
              "  </tbody>\n",
              "</table>\n",
              "</div>"
            ],
            "text/plain": [
              "  jenis_hewan nama_panggilan tanggal_lahir  usia(thn) jenis_kelamin\n",
              "0     Harimau          Harry    2018-08-14          2        Jantan\n",
              "1     Jerapah          Jerry    2017-12-12          3        Jantan\n",
              "2        Rusa           Risa    2019-01-10          2        Betina\n",
              "3       Zebra           Zera    2016-11-10          4        Betina\n",
              "4       Buaya         Bu Aya    2013-10-23          7        Betina"
            ]
          },
          "metadata": {
            "tags": []
          },
          "execution_count": 68
        }
      ]
    }
  ]
}