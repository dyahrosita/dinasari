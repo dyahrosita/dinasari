{
  "nbformat": 4,
  "nbformat_minor": 0,
  "metadata": {
    "colab": {
      "name": "WEEK 4-Conditions & Looping.ipynb",
      "provenance": [],
      "collapsed_sections": [],
      "include_colab_link": true
    },
    "kernelspec": {
      "name": "python3",
      "display_name": "Python 3"
    }
  },
  "cells": [
    {
      "cell_type": "markdown",
      "metadata": {
        "id": "view-in-github",
        "colab_type": "text"
      },
      "source": [
        "<a href=\"https://colab.research.google.com/github/dyahrosita/dinasari/blob/main/DS-WEEK_4_Conditions_%26_Looping.ipynb\" target=\"_parent\"><img src=\"https://colab.research.google.com/assets/colab-badge.svg\" alt=\"Open In Colab\"/></a>"
      ]
    },
    {
      "cell_type": "code",
      "metadata": {
        "colab": {
          "base_uri": "https://localhost:8080/"
        },
        "id": "wzK-PUgqFgL5",
        "outputId": "df8a1d3a-0f47-4cd9-c9a5-16a52eac8661"
      },
      "source": [
        "apple = \"Gadget\"\n",
        "if apple != \"Buah\":\n",
        "  print(apple+\"!\")"
      ],
      "execution_count": null,
      "outputs": [
        {
          "output_type": "stream",
          "text": [
            "Gadget!\n"
          ],
          "name": "stdout"
        }
      ]
    },
    {
      "cell_type": "code",
      "metadata": {
        "colab": {
          "base_uri": "https://localhost:8080/"
        },
        "id": "jE8HEuIWJEps",
        "outputId": "a448f19c-7d72-4949-b500-b190584d9dcd"
      },
      "source": [
        "A = 1\n",
        "B = 2\n",
        "C = 3\n",
        "if (C > A) and A+B == 3:\n",
        "  total = A+B+C\n",
        "print(total)"
      ],
      "execution_count": null,
      "outputs": [
        {
          "output_type": "stream",
          "text": [
            "6\n"
          ],
          "name": "stdout"
        }
      ]
    },
    {
      "cell_type": "code",
      "metadata": {
        "id": "ZvrR5ZjdMnC3"
      },
      "source": [
        "#delete variable \"A\"\n",
        "del A"
      ],
      "execution_count": null,
      "outputs": []
    },
    {
      "cell_type": "code",
      "metadata": {
        "colab": {
          "base_uri": "https://localhost:8080/"
        },
        "id": "h6lwMPRvNgbI",
        "outputId": "87f416ca-e244-474a-8067-8b3008627a73"
      },
      "source": [
        "A = int(input())\n",
        "if A%2 != 0:\n",
        "  print(\"Bilangan Ganjil\")\n",
        "else:\n",
        "  print(\"Bilangan Genap\")"
      ],
      "execution_count": null,
      "outputs": [
        {
          "output_type": "stream",
          "text": [
            "273648595\n",
            "Bilangan Ganjil\n"
          ],
          "name": "stdout"
        }
      ]
    },
    {
      "cell_type": "code",
      "metadata": {
        "colab": {
          "base_uri": "https://localhost:8080/"
        },
        "id": "ksIKQPXkQT95",
        "outputId": "b3e56e54-43cb-49d4-d49a-70454aecbed6"
      },
      "source": [
        "A = int(input())\n",
        "if A == 0:\n",
        "  print(A,\": Bilangan Nol\")\n",
        "elif A>0:\n",
        "  print(A,\": Bilangan Positif\")\n",
        "else:\n",
        "  print(A,\": Bilangan Negatif\")"
      ],
      "execution_count": null,
      "outputs": [
        {
          "output_type": "stream",
          "text": [
            "-7\n",
            "-7 : Bilangan Negatif\n"
          ],
          "name": "stdout"
        }
      ]
    },
    {
      "cell_type": "code",
      "metadata": {
        "colab": {
          "base_uri": "https://localhost:8080/"
        },
        "id": "EP5LH9b9SY3b",
        "outputId": "199c4143-8750-49c5-df63-c85558f37a2c"
      },
      "source": [
        "X = int(input())\n",
        "if X >= 0:\n",
        "  if X == 0:\n",
        "    print(X,\": Bilangan Nol\")\n",
        "  else:\n",
        "    print(X,\": Bilangan Positif\")\n",
        "else:\n",
        "  print(X,\": Bilangan Negatif\")"
      ],
      "execution_count": null,
      "outputs": [
        {
          "output_type": "stream",
          "text": [
            "-11\n",
            "-11 : Bilangan Negatif\n"
          ],
          "name": "stdout"
        }
      ]
    },
    {
      "cell_type": "markdown",
      "metadata": {
        "id": "0DG7sMeWihfl"
      },
      "source": [
        "**LOOPING**"
      ]
    },
    {
      "cell_type": "code",
      "metadata": {
        "colab": {
          "base_uri": "https://localhost:8080/"
        },
        "id": "h3gRUoaQW2EW",
        "outputId": "c4359956-3f1d-4f56-a393-8f6c93707c98"
      },
      "source": [
        "a = 1\n",
        "while a <=22:\n",
        "  if a % 2 != 0:\n",
        "    print(a, \":Odd Number\")\n",
        "  a += 1 "
      ],
      "execution_count": null,
      "outputs": [
        {
          "output_type": "stream",
          "text": [
            "1 :Odd Number\n",
            "3 :Odd Number\n",
            "5 :Odd Number\n",
            "7 :Odd Number\n",
            "9 :Odd Number\n",
            "11 :Odd Number\n",
            "13 :Odd Number\n",
            "15 :Odd Number\n",
            "17 :Odd Number\n",
            "19 :Odd Number\n",
            "21 :Odd Number\n"
          ],
          "name": "stdout"
        }
      ]
    },
    {
      "cell_type": "code",
      "metadata": {
        "colab": {
          "base_uri": "https://localhost:8080/"
        },
        "id": "cscJqwfIie0h",
        "outputId": "11acd4f6-6bb4-400c-8958-ce5f220b56bf"
      },
      "source": [
        "a = 1\n",
        "while a <=20:\n",
        "  if a % 2 != 0:\n",
        "    print(a, \":Bilangan Ganjil\")\n",
        "  else:\n",
        "    print(a, \":Bilangan Genap\")\n",
        "  a +=1"
      ],
      "execution_count": null,
      "outputs": [
        {
          "output_type": "stream",
          "text": [
            "1 Bilangan Ganjil\n",
            "2 Bilangan Genap\n",
            "3 Bilangan Ganjil\n",
            "4 Bilangan Genap\n",
            "5 Bilangan Ganjil\n",
            "6 Bilangan Genap\n",
            "7 Bilangan Ganjil\n",
            "8 Bilangan Genap\n",
            "9 Bilangan Ganjil\n",
            "10 Bilangan Genap\n",
            "11 Bilangan Ganjil\n",
            "12 Bilangan Genap\n",
            "13 Bilangan Ganjil\n",
            "14 Bilangan Genap\n",
            "15 Bilangan Ganjil\n",
            "16 Bilangan Genap\n",
            "17 Bilangan Ganjil\n",
            "18 Bilangan Genap\n",
            "19 Bilangan Ganjil\n",
            "20 Bilangan Genap\n"
          ],
          "name": "stdout"
        }
      ]
    },
    {
      "cell_type": "code",
      "metadata": {
        "colab": {
          "base_uri": "https://localhost:8080/"
        },
        "id": "s9jdqhpMVAfD",
        "outputId": "1c60c284-88da-44e4-e97d-ada304f15584"
      },
      "source": [
        "for a in range (1,20):\n",
        "  if a % 2 != 0:\n",
        "    print(a,\":Odd Number\")"
      ],
      "execution_count": null,
      "outputs": [
        {
          "output_type": "stream",
          "text": [
            "1 :Odd Number\n",
            "3 :Odd Number\n",
            "5 :Odd Number\n",
            "7 :Odd Number\n",
            "9 :Odd Number\n",
            "11 :Odd Number\n",
            "13 :Odd Number\n",
            "15 :Odd Number\n",
            "17 :Odd Number\n",
            "19 :Odd Number\n"
          ],
          "name": "stdout"
        }
      ]
    },
    {
      "cell_type": "code",
      "metadata": {
        "colab": {
          "base_uri": "https://localhost:8080/"
        },
        "id": "O5v4lGpvXU2-",
        "outputId": "df3d0b66-8b9f-425c-fc9e-db76801334c6"
      },
      "source": [
        "for a in range (1,5):\n",
        "  for b in range (10, 15):\n",
        "    print(a,\"+\",b,\"=\",a+b)"
      ],
      "execution_count": null,
      "outputs": [
        {
          "output_type": "stream",
          "text": [
            "1 + 10 = 11\n",
            "1 + 11 = 12\n",
            "1 + 12 = 13\n",
            "1 + 13 = 14\n",
            "1 + 14 = 15\n",
            "2 + 10 = 12\n",
            "2 + 11 = 13\n",
            "2 + 12 = 14\n",
            "2 + 13 = 15\n",
            "2 + 14 = 16\n",
            "3 + 10 = 13\n",
            "3 + 11 = 14\n",
            "3 + 12 = 15\n",
            "3 + 13 = 16\n",
            "3 + 14 = 17\n",
            "4 + 10 = 14\n",
            "4 + 11 = 15\n",
            "4 + 12 = 16\n",
            "4 + 13 = 17\n",
            "4 + 14 = 18\n"
          ],
          "name": "stdout"
        }
      ]
    },
    {
      "cell_type": "code",
      "metadata": {
        "colab": {
          "base_uri": "https://localhost:8080/"
        },
        "id": "KSSctOVcp7Gy",
        "outputId": "f462c416-4665-4b3f-a73b-f8ca605a24df"
      },
      "source": [
        "max_num = 9\n",
        "for i in range (1, max_num+1):\n",
        "  for j in range (1, i+1):\n",
        "    print(\"*\", end='')\n",
        "  print()"
      ],
      "execution_count": null,
      "outputs": [
        {
          "output_type": "stream",
          "text": [
            "*\n",
            "**\n",
            "***\n",
            "****\n",
            "*****\n",
            "******\n",
            "*******\n",
            "********\n",
            "*********\n"
          ],
          "name": "stdout"
        }
      ]
    }
  ]
}